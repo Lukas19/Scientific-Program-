{
 "cells": [
  {
   "cell_type": "markdown",
   "metadata": {},
   "source": [
    "# Actividad 1 Programación Científica\n",
    "\n",
    "## Lukas Zamora Jabre\n",
    "### 201430047-6\n",
    "#### `lukas.zamora.14@sansano.usm.cl`"
   ]
  },
  {
   "cell_type": "code",
   "execution_count": 4,
   "metadata": {
    "collapsed": true
   },
   "outputs": [],
   "source": [
    "from IPython.core.magic import register_cell_magic"
   ]
  },
  {
   "cell_type": "code",
   "execution_count": 12,
   "metadata": {
    "collapsed": false
   },
   "outputs": [],
   "source": [
    "@register_cell_magic\n",
    "def two_to_three_ext(line, cell):\n",
    "    ip = get_ipython()\n",
    "    source_filename = '_temp.py'\n",
    "    counter = 0\n",
    "    conditions = [\"if\", \"elif\", \"else\", \"while\", \"for\"]\n",
    "    sol = \"\"\n",
    "    lines = cell.split('\\n')\n",
    "    for i in range(len(lines)):\n",
    "        if (\"print \" in lines[i]):\n",
    "            space_counter = 0\n",
    "            for caracter in lines[i]:\n",
    "                if (caracter == ' '):\n",
    "                    space_counter += 1\n",
    "                else:\n",
    "                    break\n",
    "            lines[i] = space_counter * ' ' + \"print(\"+ \" \".join(lines[:1])+ \")\"\n",
    "        counter += 1\n",
    "        sol += lines[i] + \"\\n\"\n",
    "\n",
    "    # We write the code to the python file.\n",
    "    print(sol)\n",
    "    with open(source_filename, 'w') as f: #PONER PARENTESIS LUEGO DE STRING.\n",
    "        f.write(sol)\n",
    "    # We execute the executable and return the output.\n",
    "    output = ip.getoutput('python {0:s}'.format(source_filename))\n",
    "    print('\\n'.join(output))"
   ]
  },
  {
   "cell_type": "code",
   "execution_count": 13,
   "metadata": {
    "collapsed": false
   },
   "outputs": [
    {
     "name": "stdout",
     "output_type": "stream",
     "text": [
      "a = float(raw_input(\"Ingrese a: \"))\n",
      "b = float(raw_input(\"Ingrese b: \"))\n",
      "c = float(raw_input(\"Ingrese c: \"))\n",
      "\n",
      "if a>(b+c) or b>(a+c) or c>(a+b):\n",
      "    print(a = float(raw_input(\"Ingrese a: \")))\n",
      "elif a==b and b==c:\n",
      "    print(a = float(raw_input(\"Ingrese a: \")))\n",
      "elif a==b or b==c or a==c:\n",
      "    print(a = float(raw_input(\"Ingrese a: \")))\n",
      "else:\n",
      "    print(a = float(raw_input(\"Ingrese a: \")))\n",
      "\n",
      "Traceback (most recent call last):\n",
      "  File \"_temp.py\", line 1, in <module>\n",
      "    a = float(raw_input(\"Ingrese a: \"))\n",
      "NameError: name 'raw_input' is not defined\n"
     ]
    }
   ],
   "source": [
    "%%two_to_three_ext\n",
    "a = float(raw_input(\"Ingrese a: \"))\n",
    "b = float(raw_input(\"Ingrese b: \"))\n",
    "c = float(raw_input(\"Ingrese c: \"))\n",
    "\n",
    "if a>(b+c) or b>(a+c) or c>(a+b):\n",
    "    print \"Ingrese un traingulo valido.\"\n",
    "elif a==b and b==c:\n",
    "    print \"Triangulo equilatero.\"\n",
    "elif a==b or b==c or a==c:\n",
    "    print \"Triangulo isoceles.\"\n",
    "else:\n",
    "    print \"Triangulo escaleno.\""
   ]
  },
  {
   "cell_type": "markdown",
   "metadata": {
    "collapsed": true
   },
   "source": [
    "Dado que en la actividad sólamente nos pedían cambiar la sintaxis de `print`, omitiremos el error `NameError: name 'raw_input' is not defined`."
   ]
  }
 ],
 "metadata": {
  "kernelspec": {
   "display_name": "Python 3",
   "language": "python",
   "name": "python3"
  },
  "language_info": {
   "codemirror_mode": {
    "name": "ipython",
    "version": 3
   },
   "file_extension": ".py",
   "mimetype": "text/x-python",
   "name": "python",
   "nbconvert_exporter": "python",
   "pygments_lexer": "ipython3",
   "version": "3.6.0"
  }
 },
 "nbformat": 4,
 "nbformat_minor": 2
}
