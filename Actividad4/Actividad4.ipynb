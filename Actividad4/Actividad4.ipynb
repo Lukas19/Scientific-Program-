{
 "cells": [
  {
   "cell_type": "markdown",
   "metadata": {
    "collapsed": true
   },
   "source": [
    "<center>\n",
    "    <h1> Scientific Programming in Python  </h1>\n",
    "    <h2> Topic 4: Just in Time Compilation: Numba and NumExpr </h2> \n",
    "</center>"
   ]
  },
  {
   "cell_type": "code",
   "execution_count": 3,
   "metadata": {
    "collapsed": true
   },
   "outputs": [],
   "source": [
    "import numba\n",
    "import numpy as np\n",
    "import numexpr as ne\n",
    "import matplotlib.pyplot as plt"
   ]
  },
  {
   "cell_type": "code",
   "execution_count": 4,
   "metadata": {
    "collapsed": true
   },
   "outputs": [],
   "source": [
    "#Métrica de Hausdorff con Numpy\n",
    "\n",
    "def hausdorff(A,B):\n",
    "    values = list()\n",
    "    for i in range(A.shape[0]):\n",
    "        minimum = float(\"inf\") \n",
    "        for j in range(B.shape[0]):\n",
    "            dist = np.linalg.norm(A[i]-B[j])\n",
    "            if (dist<minimum):\n",
    "                minimum = dist\n",
    "        values.append(minimum)        \n",
    "    maximum = max(values)\n",
    "    \n",
    "    values2 = list()\n",
    "    for i in range(B.shape[0]):\n",
    "        minimum = float(\"inf\") \n",
    "        for j in range(A.shape[0]):\n",
    "            dist = np.linalg.norm(B[i]-A[j])\n",
    "            if (dist<minimum):\n",
    "                minimum = dist\n",
    "        values2.append(minimum)        \n",
    "    maximum2 = max(values2)\n",
    "    return max((maximum,maximum2))"
   ]
  },
  {
   "cell_type": "code",
   "execution_count": 5,
   "metadata": {
    "collapsed": false
   },
   "outputs": [
    {
     "data": {
      "text/plain": [
       "4.6986600319231355"
      ]
     },
     "execution_count": 5,
     "metadata": {},
     "output_type": "execute_result"
    }
   ],
   "source": [
    "A = np.array([[ 9.56970768,  8.53601333,  6.07653383],\n",
    " [ 1.33086517,  4.02691999,  2.66137715],\n",
    " [ 0.53370035,  1.25830059,  9.02249821],\n",
    " [ 8.59761067,  3.33959696,  0.84928533],\n",
    " [ 1.1459004,   8.20483685,  4.16530275],\n",
    " [ 9.93207672,  2.59917123,  9.02358165],\n",
    " [ 9.17083396,  9.13252683,  1.3961692 ],\n",
    " [ 1.02897731,  7.84427354,  8.18781085],\n",
    " [ 4.76011519,  9.92322075,  1.39911568],\n",
    " [ 7.65020577,  4.1566324,   2.46404643]])\n",
    "B = np.array([[ 6.87900304,  6.79243487,  9.2415663 ],\n",
    " [ 8.45188892,  4.4298556,   7.70932505],\n",
    " [ 3.08520215,  2.61873698,  2.74684811],\n",
    " [ 8.87024873,  8.26896817,  7.76915603],\n",
    " [ 5.79323107,  3.05200807,  0.65299691],\n",
    " [ 9.61951043,  7.98039292,  2.26984305],\n",
    " [ 9.7400131,   9.63526831,  7.85130074],\n",
    " [ 3.87998721,  5.34444185,  2.995619  ],\n",
    " [ 0.72801199,  3.15958097,  7.98661071],\n",
    " [ 1.66641809,  9.19896187,  3.2371841 ],\n",
    " [ 7.24000323,  7.67376883,  7.63659924],\n",
    " [ 4.89063324,  6.99067643,  0.33505466],\n",
    " [ 9.76117733,  2.44750528,  1.27046862],\n",
    " [ 7.65721516,  5.3443134,   5.47290192],\n",
    " [ 2.52287652,  2.49721481,  9.68213723]])\n",
    "hausdorff(A,B)"
   ]
  },
  {
   "cell_type": "code",
   "execution_count": 6,
   "metadata": {
    "collapsed": false
   },
   "outputs": [],
   "source": [
    "#Hausdorff con Numba\n",
    "\n",
    "@numba.jit('float64 (float64[:,:], float64[:,:])', nopython = True)\n",
    "def hausdorff_numba(A, B):\n",
    "    maximum = -999999999999\n",
    "    for i in range(A.shape[0]):\n",
    "        minimum = 999999999999\n",
    "        for j in range(B.shape[0]):\n",
    "            if minimum > np.linalg.norm(A[i] - B[j]):\n",
    "                minimum = np.linalg.norm(A[i] - B[j])\n",
    "        if minimum > maximum:\n",
    "            maximum = minimum\n",
    "\n",
    "    maximum2 = -999999999999\n",
    "    for i in range(A.shape[0]):\n",
    "        minimum2 = 999999999999\n",
    "        for j in range(B.shape[0]):\n",
    "            if minimum2 > np.linalg.norm(A[i] - B[j]):\n",
    "                minimum2 = np.linalg.norm(A[i] - B[j])\n",
    "        if minimum2 > maximum2:\n",
    "            maximum2 = minimum2\n",
    "    \n",
    "    return max((maximum, maximum2))\n",
    "\n",
    "#MI VERSIÓN DE NUMBA NO AGUANTO LISTAS :( "
   ]
  },
  {
   "cell_type": "code",
   "execution_count": 7,
   "metadata": {
    "collapsed": false
   },
   "outputs": [
    {
     "name": "stdout",
     "output_type": "stream",
     "text": [
      "The slowest run took 5.09 times longer than the fastest. This could mean that an intermediate result is being cached.\n",
      "100 loops, best of 3: 3.23 ms per loop\n",
      "The slowest run took 218.43 times longer than the fastest. This could mean that an intermediate result is being cached.\n",
      "10000 loops, best of 3: 164 µs per loop\n"
     ]
    }
   ],
   "source": [
    "%timeit hausdorff(A,B)\n",
    "%timeit hausdorff_numba(A,B)"
   ]
  },
  {
   "cell_type": "code",
   "execution_count": 22,
   "metadata": {
    "collapsed": false
   },
   "outputs": [
    {
     "name": "stdout",
     "output_type": "stream",
     "text": [
      "\n",
      "Metrica de hausdorff con 1 filas \n",
      ":\n",
      "The slowest run took 5.31 times longer than the fastest. This could mean that an intermediate result is being cached.\n",
      "10000 loops, best of 3: 28.6 µs per loop\n",
      "\n",
      "Metrica de hausdorff con 1 filas usando Numpa \n",
      ":\n",
      "The slowest run took 5.17 times longer than the fastest. This could mean that an intermediate result is being cached.\n",
      "100000 loops, best of 3: 2.78 µs per loop\n",
      "\n",
      "Metrica de hausdorff con 2 filas \n",
      ":\n",
      "10000 loops, best of 3: 92 µs per loop\n",
      "\n",
      "Metrica de hausdorff con 2 filas usando Numpa \n",
      ":\n",
      "100000 loops, best of 3: 6.29 µs per loop\n",
      "\n",
      "Metrica de hausdorff con 3 filas \n",
      ":\n",
      "1000 loops, best of 3: 198 µs per loop\n",
      "\n",
      "Metrica de hausdorff con 3 filas usando Numpa \n",
      ":\n",
      "100000 loops, best of 3: 14.2 µs per loop\n",
      "\n",
      "Metrica de hausdorff con 4 filas \n",
      ":\n",
      "1000 loops, best of 3: 342 µs per loop\n",
      "\n",
      "Metrica de hausdorff con 4 filas usando Numpa \n",
      ":\n",
      "10000 loops, best of 3: 21.9 µs per loop\n",
      "\n",
      "Metrica de hausdorff con 5 filas \n",
      ":\n",
      "1000 loops, best of 3: 582 µs per loop\n",
      "\n",
      "Metrica de hausdorff con 5 filas usando Numpa \n",
      ":\n",
      "10000 loops, best of 3: 32.3 µs per loop\n",
      "\n",
      "Metrica de hausdorff con 6 filas \n",
      ":\n",
      "1000 loops, best of 3: 732 µs per loop\n",
      "\n",
      "Metrica de hausdorff con 6 filas usando Numpa \n",
      ":\n",
      "10000 loops, best of 3: 41.8 µs per loop\n",
      "\n",
      "Metrica de hausdorff con 7 filas \n",
      ":\n",
      "1000 loops, best of 3: 1.09 ms per loop\n",
      "\n",
      "Metrica de hausdorff con 7 filas usando Numpa \n",
      ":\n",
      "10000 loops, best of 3: 62.6 µs per loop\n",
      "\n",
      "Metrica de hausdorff con 8 filas \n",
      ":\n",
      "1000 loops, best of 3: 1.4 ms per loop\n",
      "\n",
      "Metrica de hausdorff con 8 filas usando Numpa \n",
      ":\n",
      "10000 loops, best of 3: 73.5 µs per loop\n",
      "\n",
      "Metrica de hausdorff con 9 filas \n",
      ":\n",
      "1000 loops, best of 3: 1.68 ms per loop\n",
      "\n",
      "Metrica de hausdorff con 9 filas usando Numpa \n",
      ":\n",
      "10000 loops, best of 3: 92.2 µs per loop\n",
      "\n",
      "Metrica de hausdorff con 10 filas \n",
      ":\n",
      "100 loops, best of 3: 2.02 ms per loop\n",
      "\n",
      "Metrica de hausdorff con 10 filas usando Numpa \n",
      ":\n",
      "10000 loops, best of 3: 101 µs per loop\n"
     ]
    }
   ],
   "source": [
    "for i in range(1,11):\n",
    "    a = np.random.random((i,3))\n",
    "    b = np.random.random((i,3))\n",
    "    print(\"\\nMetrica de hausdorff con \" + str(i) + \" filas \\n:\")\n",
    "    %timeit hausdorff(a,b)\n",
    "    print(\"\\nMetrica de hausdorff con \" + str(i) + \" filas usando Numpa \\n:\")\n",
    "    %timeit hausdorff_numba(a,b)"
   ]
  },
  {
   "cell_type": "markdown",
   "metadata": {},
   "source": [
    "Notamos que utilizando python puro la diferencia entre computar con 1 y 10 filas tiene ordén de magnitud **-3** mientras que utilizando Numba la diferencia se mantiene con ordén de magnitud **-6**. Por lo que claramente Numba nos entrega tiempos de ejecución más constante a medida que aumentamos el número de filas."
   ]
  }
 ],
 "metadata": {
  "kernelspec": {
   "display_name": "Python 3",
   "language": "python",
   "name": "python3"
  },
  "language_info": {
   "codemirror_mode": {
    "name": "ipython",
    "version": 3
   },
   "file_extension": ".py",
   "mimetype": "text/x-python",
   "name": "python",
   "nbconvert_exporter": "python",
   "pygments_lexer": "ipython3",
   "version": "3.6.0"
  }
 },
 "nbformat": 4,
 "nbformat_minor": 2
}
